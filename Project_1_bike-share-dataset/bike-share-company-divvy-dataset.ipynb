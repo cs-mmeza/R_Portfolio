{
 "cells": [
  {
   "cell_type": "markdown",
   "id": "8fbb36a7",
   "metadata": {
    "papermill": {
     "duration": 0.060143,
     "end_time": "2022-02-16T04:54:31.865948",
     "exception": false,
     "start_time": "2022-02-16T04:54:31.805805",
     "status": "completed"
    },
    "tags": []
   },
   "source": [
    "## Devepment\n",
    "### 2. Prepare\n",
    "\n",
    "Downloaded the files from divvy's dataset: https://divvy-tripdata.s3.amazonaws.com/index.html\n",
    "\n",
    "I stored the dataset in a local folder separating the CSV original files and the copy I am working on.\n",
    "\n",
    "`~/CSV\n",
    " ~/CSV-Copy/Working-directory\n",
    " `\n",
    "\n",
    "Once the dataset is organized with a back-up, I use RStudio for the analysis. The google data analysis course provided a scrip to use in R for cleaning and processsing. The Examples used the data from divvy's dataset. Data is organized from quarters and is taken from the last 3 quarters of 2019 and the first quarter of 2020 to represent a whole year of user activity.\n",
    "\n",
    "Script guideline and requirements on the link below:\n",
    "\n",
    "https://docs.google.com/document/d/1TTj5KNKf4BWvEORGm10oNbpwTRk1hamsWJGj6qRWpuI/edit\n",
    "\n",
    "dataset used on R script:\n",
    "\n",
    "`q2_2019 <- read_csv(\"Divvy_Trips_2019_Q2.csv\"),`\n",
    "`q3_2019 <- read_csv(\"Divvy_Trips_2019_Q3.csv\"),`\n",
    "`q4_2019 <- read_csv(\"Divvy_Trips_2019_Q4.csv\"),`\n",
    "`q1_2020 <- read_csv(\"Divvy_Trips_2019_Q1.csv\")`\n",
    "\n",
    "Merge\n",
    "\n",
    "`all_trips <- bind_rows(q2_2019, q3_2019, q4_2019, q1_2020)`"
   ]
  },
  {
   "cell_type": "markdown",
   "id": "a6992213",
   "metadata": {
    "papermill": {
     "duration": 0.060702,
     "end_time": "2022-02-16T04:54:31.987291",
     "exception": false,
     "start_time": "2022-02-16T04:54:31.926589",
     "status": "completed"
    },
    "tags": []
   },
   "source": [
    "### 3. Process\n",
    "\n",
    "After merging all datasets under the variable `all_trips` we removed the columns that were dropped on tables from 2020 and after.\n",
    "\n",
    "`all_trips <- all_trips %>%  \n",
    "  select(-c(start_lat, start_lng, end_lat, end_lng, birthyear, gender))`\n",
    "`"
   ]
  },
  {
   "cell_type": "code",
   "execution_count": 1,
   "id": "5a0b5b44",
   "metadata": {
    "_kg_hide-output": true,
    "execution": {
     "iopub.execute_input": "2022-02-16T04:54:32.132632Z",
     "iopub.status.busy": "2022-02-16T04:54:32.130332Z",
     "iopub.status.idle": "2022-02-16T04:54:33.436711Z",
     "shell.execute_reply": "2022-02-16T04:54:33.435180Z"
    },
    "papermill": {
     "duration": 1.386893,
     "end_time": "2022-02-16T04:54:33.436886",
     "exception": false,
     "start_time": "2022-02-16T04:54:32.049993",
     "status": "completed"
    },
    "tags": [],
    "vscode": {
     "languageId": "r"
    }
   },
   "outputs": [
    {
     "name": "stderr",
     "output_type": "stream",
     "text": [
      "── \u001b[1mAttaching packages\u001b[22m ─────────────────────────────────────── tidyverse 1.3.1 ──\n",
      "\n",
      "\u001b[32m✔\u001b[39m \u001b[34mggplot2\u001b[39m 3.3.5     \u001b[32m✔\u001b[39m \u001b[34mpurrr  \u001b[39m 0.3.4\n",
      "\u001b[32m✔\u001b[39m \u001b[34mtibble \u001b[39m 3.1.5     \u001b[32m✔\u001b[39m \u001b[34mdplyr  \u001b[39m 1.0.7\n",
      "\u001b[32m✔\u001b[39m \u001b[34mtidyr  \u001b[39m 1.1.4     \u001b[32m✔\u001b[39m \u001b[34mstringr\u001b[39m 1.4.0\n",
      "\u001b[32m✔\u001b[39m \u001b[34mreadr  \u001b[39m 2.0.2     \u001b[32m✔\u001b[39m \u001b[34mforcats\u001b[39m 0.5.1\n",
      "\n",
      "── \u001b[1mConflicts\u001b[22m ────────────────────────────────────────── tidyverse_conflicts() ──\n",
      "\u001b[31m✖\u001b[39m \u001b[34mdplyr\u001b[39m::\u001b[32mfilter()\u001b[39m masks \u001b[34mstats\u001b[39m::filter()\n",
      "\u001b[31m✖\u001b[39m \u001b[34mdplyr\u001b[39m::\u001b[32mlag()\u001b[39m    masks \u001b[34mstats\u001b[39m::lag()\n",
      "\n"
     ]
    }
   ],
   "source": [
    "library(tidyverse)  #helps wrangle data\n",
    "library(ggplot2)  #helps visualize data"
   ]
  },
  {
   "cell_type": "code",
   "execution_count": 2,
   "id": "24da3ddd",
   "metadata": {
    "_kg_hide-input": false,
    "_kg_hide-output": true,
    "execution": {
     "iopub.execute_input": "2022-02-16T04:54:33.603841Z",
     "iopub.status.busy": "2022-02-16T04:54:33.572235Z",
     "iopub.status.idle": "2022-02-16T04:54:42.308592Z",
     "shell.execute_reply": "2022-02-16T04:54:42.307309Z"
    },
    "papermill": {
     "duration": 8.805243,
     "end_time": "2022-02-16T04:54:42.308786",
     "exception": false,
     "start_time": "2022-02-16T04:54:33.503543",
     "status": "completed"
    },
    "tags": [],
    "vscode": {
     "languageId": "r"
    }
   },
   "outputs": [
    {
     "name": "stderr",
     "output_type": "stream",
     "text": [
      "New names:\n",
      "* `` -> ...1\n",
      "\n",
      "\u001b[1m\u001b[1mRows: \u001b[1m\u001b[22m\u001b[34m\u001b[34m3879822\u001b[34m\u001b[39m \u001b[1m\u001b[1mColumns: \u001b[1m\u001b[22m\u001b[34m\u001b[34m20\u001b[34m\u001b[39m\n",
      "\n",
      "\u001b[36m──\u001b[39m \u001b[1m\u001b[1mColumn specification\u001b[1m\u001b[22m \u001b[36m────────────────────────────────────────────────────────\u001b[39m\n",
      "\u001b[1mDelimiter:\u001b[22m \",\"\n",
      "\u001b[31mchr\u001b[39m   (7): ride_id, rideable_type, start_station_name, end_station_name, mem...\n",
      "\u001b[32mdbl\u001b[39m  (11): ...1, 01 - Rental Details Duration In Seconds Uncapped, start_sta...\n",
      "\u001b[34mdttm\u001b[39m  (2): started_at, ended_at\n",
      "\n",
      "\n",
      "\u001b[36mℹ\u001b[39m Use \u001b[30m\u001b[47m\u001b[30m\u001b[47m`spec()`\u001b[47m\u001b[30m\u001b[49m\u001b[39m to retrieve the full column specification for this data.\n",
      "\u001b[36mℹ\u001b[39m Specify the column types or set \u001b[30m\u001b[47m\u001b[30m\u001b[47m`show_col_types = FALSE`\u001b[47m\u001b[30m\u001b[49m\u001b[39m to quiet this message.\n",
      "\n"
     ]
    },
    {
     "data": {
      "text/plain": [
       "\n",
       "    casual   Customer     member Subscriber \n",
       "     48480     857474     378407    2595461 "
      ]
     },
     "metadata": {},
     "output_type": "display_data"
    }
   ],
   "source": [
    "#Loading dataset\n",
    "all_trips <- read_csv(\"../input/cyclisticdataset/all_trips.csv\")\n",
    "\n",
    "table(all_trips$member_casual)"
   ]
  },
  {
   "cell_type": "code",
   "execution_count": 3,
   "id": "438a9a13",
   "metadata": {
    "execution": {
     "iopub.execute_input": "2022-02-16T04:54:42.455561Z",
     "iopub.status.busy": "2022-02-16T04:54:42.454086Z",
     "iopub.status.idle": "2022-02-16T04:54:43.656471Z",
     "shell.execute_reply": "2022-02-16T04:54:43.654793Z"
    },
    "jupyter": {
     "source_hidden": true
    },
    "papermill": {
     "duration": 1.27593,
     "end_time": "2022-02-16T04:54:43.656624",
     "exception": false,
     "start_time": "2022-02-16T04:54:42.380694",
     "status": "completed"
    },
    "tags": [],
    "vscode": {
     "languageId": "r"
    }
   },
   "outputs": [],
   "source": [
    "# Reassign to the desired values (we will go with the current 2020 labels)\n",
    "all_trips <-  all_trips %>% \n",
    "  mutate(member_casual = recode(member_casual\n",
    "                                ,\"Subscriber\" = \"member\"\n",
    "                                ,\"Customer\" = \"casual\"))"
   ]
  },
  {
   "cell_type": "code",
   "execution_count": 4,
   "id": "5e3a381f",
   "metadata": {
    "_kg_hide-input": true,
    "execution": {
     "iopub.execute_input": "2022-02-16T04:54:43.802844Z",
     "iopub.status.busy": "2022-02-16T04:54:43.799433Z",
     "iopub.status.idle": "2022-02-16T04:54:44.057335Z",
     "shell.execute_reply": "2022-02-16T04:54:44.056612Z"
    },
    "jupyter": {
     "source_hidden": true
    },
    "papermill": {
     "duration": 0.331463,
     "end_time": "2022-02-16T04:54:44.057543",
     "exception": false,
     "start_time": "2022-02-16T04:54:43.726080",
     "status": "completed"
    },
    "tags": [],
    "vscode": {
     "languageId": "r"
    }
   },
   "outputs": [
    {
     "data": {
      "text/plain": [
       "\n",
       " casual  member \n",
       " 905954 2973868 "
      ]
     },
     "metadata": {},
     "output_type": "display_data"
    }
   ],
   "source": [
    "#check\n",
    "table(all_trips$member_casual)"
   ]
  },
  {
   "cell_type": "code",
   "execution_count": 5,
   "id": "9a971243",
   "metadata": {
    "execution": {
     "iopub.execute_input": "2022-02-16T04:54:44.232722Z",
     "iopub.status.busy": "2022-02-16T04:54:44.230408Z",
     "iopub.status.idle": "2022-02-16T04:54:58.028133Z",
     "shell.execute_reply": "2022-02-16T04:54:58.026587Z"
    },
    "jupyter": {
     "source_hidden": true
    },
    "papermill": {
     "duration": 13.880319,
     "end_time": "2022-02-16T04:54:58.028325",
     "exception": false,
     "start_time": "2022-02-16T04:54:44.148006",
     "status": "completed"
    },
    "tags": [],
    "vscode": {
     "languageId": "r"
    }
   },
   "outputs": [
    {
     "data": {
      "text/html": [
       "TRUE"
      ],
      "text/latex": [
       "TRUE"
      ],
      "text/markdown": [
       "TRUE"
      ],
      "text/plain": [
       "[1] TRUE"
      ]
     },
     "metadata": {},
     "output_type": "display_data"
    }
   ],
   "source": [
    "#Then the dataset is further clean to extract more information from the dataset like trip duration date when the trip was made and the type of user that did it.\n",
    "all_trips$date <- as.Date(all_trips$started_at) #The default format is yyyy-mm-dd\n",
    "all_trips$month <- format(as.Date(all_trips$date), \"%m\")\n",
    "all_trips$day <- format(as.Date(all_trips$date), \"%d\")\n",
    "all_trips$year <- format(as.Date(all_trips$date), \"%Y\")\n",
    "\n",
    "#Agregating a column with days of the week:\n",
    "all_trips$day_of_week <- format(as.Date(all_trips$date), \"%A\")\n",
    "\n",
    "# Add a \"ride_length\" calculation to all_trips (in seconds)\n",
    "all_trips$ride_length <- difftime(all_trips$ended_at,all_trips$started_at)\n",
    "\n",
    "# Convert \"ride_length\" from Factor to numeric so we can run calculations on the data\n",
    "all_trips$ride_length <- as.numeric(as.character(all_trips$ride_length))\n",
    "is.numeric(all_trips$ride_length)"
   ]
  },
  {
   "cell_type": "markdown",
   "id": "52d8cb34",
   "metadata": {
    "papermill": {
     "duration": 0.073719,
     "end_time": "2022-02-16T04:54:58.176424",
     "exception": false,
     "start_time": "2022-02-16T04:54:58.102705",
     "status": "completed"
    },
    "tags": []
   },
   "source": [
    "##### Removing \"bad\" data\n",
    "The data frame includes a few hundred entries when bikes were taken out of docks and checked for quality by Divvy. Also, there are negative values in the `ride_length` column. We will address the changes in a new version V2."
   ]
  },
  {
   "cell_type": "code",
   "execution_count": 6,
   "id": "343711eb",
   "metadata": {
    "execution": {
     "iopub.execute_input": "2022-02-16T04:54:58.330025Z",
     "iopub.status.busy": "2022-02-16T04:54:58.328651Z",
     "iopub.status.idle": "2022-02-16T04:55:00.716796Z",
     "shell.execute_reply": "2022-02-16T04:55:00.715543Z"
    },
    "jupyter": {
     "source_hidden": true
    },
    "papermill": {
     "duration": 2.466505,
     "end_time": "2022-02-16T04:55:00.716941",
     "exception": false,
     "start_time": "2022-02-16T04:54:58.250436",
     "status": "completed"
    },
    "tags": [],
    "vscode": {
     "languageId": "r"
    }
   },
   "outputs": [],
   "source": [
    "all_trips_v2 <- all_trips[!(all_trips$start_station_name == \"HQ QR\" | all_trips$ride_length<0),]\n",
    "\n",
    "#Organizing days of the week.\n",
    "all_trips_v2$day_of_week <- ordered(all_trips_v2$day_of_week, levels=c(\"Sunday\", \"Monday\", \"Tuesday\", \"Wednesday\", \"Thursday\", \"Friday\", \"Saturday\"))"
   ]
  },
  {
   "cell_type": "markdown",
   "id": "efe88eca",
   "metadata": {
    "papermill": {
     "duration": 0.07547,
     "end_time": "2022-02-16T04:55:00.867613",
     "exception": false,
     "start_time": "2022-02-16T04:55:00.792143",
     "status": "completed"
    },
    "tags": []
   },
   "source": [
    "### 4. Analysis\n",
    "After preparing and cleaning the main data-set it to identify patterns. In order to avoid uploading the whole data set, we will separate the data into smaller data sets. Each data set represents some of the questions Cyclistics has about their users. Like weekly and monthly ride count as well as ride duration.\n",
    "\n",
    "To understand how different types of users differentiate from each other, we need to classify their trips by trip duration and trip count.\n",
    "\n",
    "Average ride time by each day for embers VS casual users, the data is separated, in days of the week and there is, also a monthly version."
   ]
  },
  {
   "cell_type": "code",
   "execution_count": 7,
   "id": "80671c59",
   "metadata": {
    "execution": {
     "iopub.execute_input": "2022-02-16T04:55:01.021699Z",
     "iopub.status.busy": "2022-02-16T04:55:01.020092Z",
     "iopub.status.idle": "2022-02-16T04:55:10.577009Z",
     "shell.execute_reply": "2022-02-16T04:55:10.571340Z"
    },
    "jupyter": {
     "source_hidden": true
    },
    "papermill": {
     "duration": 9.635333,
     "end_time": "2022-02-16T04:55:10.577958",
     "exception": false,
     "start_time": "2022-02-16T04:55:00.942625",
     "status": "completed"
    },
    "tags": [],
    "vscode": {
     "languageId": "r"
    }
   },
   "outputs": [],
   "source": [
    "#Ride frequency by member type, for each day of the week.\n",
    "mean_duration_week <- aggregate(all_trips_v2$ride_length ~ all_trips_v2$member_casual + all_trips_v2$day_of_week, FUN = mean)\n",
    "mean_duration_month <- aggregate(all_trips_v2$ride_length ~ all_trips_v2$member_casual + all_trips_v2$month, FUN = mean)\n",
    "\n",
    "\n",
    "count_day_week <- as.data.frame(table(all_trips_v2$member_casual, all_trips_v2$day_of_week))\n",
    "count_month <- as.data.frame(table(all_trips_v2$member_casual, all_trips_v2$month))"
   ]
  },
  {
   "cell_type": "markdown",
   "id": "2163405a",
   "metadata": {
    "papermill": {
     "duration": 0.097752,
     "end_time": "2022-02-16T04:55:10.916817",
     "exception": false,
     "start_time": "2022-02-16T04:55:10.819065",
     "status": "completed"
    },
    "tags": []
   },
   "source": [
    "### Creating Specific Tables"
   ]
  },
  {
   "cell_type": "code",
   "execution_count": 8,
   "id": "8c6c783e",
   "metadata": {
    "execution": {
     "iopub.execute_input": "2022-02-16T04:55:11.096864Z",
     "iopub.status.busy": "2022-02-16T04:55:11.095402Z",
     "iopub.status.idle": "2022-02-16T04:55:17.879075Z",
     "shell.execute_reply": "2022-02-16T04:55:17.877797Z"
    },
    "jupyter": {
     "source_hidden": true
    },
    "papermill": {
     "duration": 6.876011,
     "end_time": "2022-02-16T04:55:17.879249",
     "exception": false,
     "start_time": "2022-02-16T04:55:11.003238",
     "status": "completed"
    },
    "tags": [],
    "vscode": {
     "languageId": "r"
    }
   },
   "outputs": [],
   "source": [
    "#Analysis based on weekly comparison and information\n",
    "mean_duration_week <- aggregate(all_trips_v2$ride_length ~ all_trips_v2$member_casual + all_trips_v2$day_of_week, FUN = mean)\n",
    "count_day_week <- as.data.frame(table(all_trips_v2$member_casual, all_trips_v2$day_of_week))\n",
    "\n",
    "#Analysis based on weekly comparison and information\n",
    "mean_duration_month <- aggregate(all_trips_v2$ride_length ~ all_trips_v2$member_casual + all_trips_v2$month, FUN = mean)\n",
    "count_month <- as.data.frame(table(all_trips_v2$member_casual, all_trips_v2$month))"
   ]
  },
  {
   "cell_type": "code",
   "execution_count": 9,
   "id": "dd2ff242",
   "metadata": {
    "execution": {
     "iopub.execute_input": "2022-02-16T04:55:18.046852Z",
     "iopub.status.busy": "2022-02-16T04:55:18.045524Z",
     "iopub.status.idle": "2022-02-16T04:55:18.105467Z",
     "shell.execute_reply": "2022-02-16T04:55:18.103950Z"
    },
    "jupyter": {
     "source_hidden": true
    },
    "papermill": {
     "duration": 0.142876,
     "end_time": "2022-02-16T04:55:18.105612",
     "exception": false,
     "start_time": "2022-02-16T04:55:17.962736",
     "status": "completed"
    },
    "tags": [],
    "vscode": {
     "languageId": "r"
    }
   },
   "outputs": [
    {
     "data": {
      "text/html": [
       "<table class=\"dataframe\">\n",
       "<caption>A data.frame: 6 × 3</caption>\n",
       "<thead>\n",
       "\t<tr><th></th><th scope=col>all_trips_v2$member_casual</th><th scope=col>all_trips_v2$day_of_week</th><th scope=col>all_trips_v2$ride_length</th></tr>\n",
       "\t<tr><th></th><th scope=col>&lt;chr&gt;</th><th scope=col>&lt;ord&gt;</th><th scope=col>&lt;dbl&gt;</th></tr>\n",
       "</thead>\n",
       "<tbody>\n",
       "\t<tr><th scope=row>1</th><td>casual</td><td>Sunday </td><td>3581.4054</td></tr>\n",
       "\t<tr><th scope=row>2</th><td>member</td><td>Sunday </td><td> 919.9746</td></tr>\n",
       "\t<tr><th scope=row>3</th><td>casual</td><td>Monday </td><td>3372.2869</td></tr>\n",
       "\t<tr><th scope=row>4</th><td>member</td><td>Monday </td><td> 842.5726</td></tr>\n",
       "\t<tr><th scope=row>5</th><td>casual</td><td>Tuesday</td><td>3596.3599</td></tr>\n",
       "\t<tr><th scope=row>6</th><td>member</td><td>Tuesday</td><td> 826.1427</td></tr>\n",
       "</tbody>\n",
       "</table>\n"
      ],
      "text/latex": [
       "A data.frame: 6 × 3\n",
       "\\begin{tabular}{r|lll}\n",
       "  & all\\_trips\\_v2\\$member\\_casual & all\\_trips\\_v2\\$day\\_of\\_week & all\\_trips\\_v2\\$ride\\_length\\\\\n",
       "  & <chr> & <ord> & <dbl>\\\\\n",
       "\\hline\n",
       "\t1 & casual & Sunday  & 3581.4054\\\\\n",
       "\t2 & member & Sunday  &  919.9746\\\\\n",
       "\t3 & casual & Monday  & 3372.2869\\\\\n",
       "\t4 & member & Monday  &  842.5726\\\\\n",
       "\t5 & casual & Tuesday & 3596.3599\\\\\n",
       "\t6 & member & Tuesday &  826.1427\\\\\n",
       "\\end{tabular}\n"
      ],
      "text/markdown": [
       "\n",
       "A data.frame: 6 × 3\n",
       "\n",
       "| <!--/--> | all_trips_v2$member_casual &lt;chr&gt; | all_trips_v2$day_of_week &lt;ord&gt; | all_trips_v2$ride_length &lt;dbl&gt; |\n",
       "|---|---|---|---|\n",
       "| 1 | casual | Sunday  | 3581.4054 |\n",
       "| 2 | member | Sunday  |  919.9746 |\n",
       "| 3 | casual | Monday  | 3372.2869 |\n",
       "| 4 | member | Monday  |  842.5726 |\n",
       "| 5 | casual | Tuesday | 3596.3599 |\n",
       "| 6 | member | Tuesday |  826.1427 |\n",
       "\n"
      ],
      "text/plain": [
       "  all_trips_v2$member_casual all_trips_v2$day_of_week all_trips_v2$ride_length\n",
       "1 casual                     Sunday                   3581.4054               \n",
       "2 member                     Sunday                    919.9746               \n",
       "3 casual                     Monday                   3372.2869               \n",
       "4 member                     Monday                    842.5726               \n",
       "5 casual                     Tuesday                  3596.3599               \n",
       "6 member                     Tuesday                   826.1427               "
      ]
     },
     "metadata": {},
     "output_type": "display_data"
    },
    {
     "data": {
      "text/html": [
       "<table class=\"dataframe\">\n",
       "<caption>A data.frame: 6 × 3</caption>\n",
       "<thead>\n",
       "\t<tr><th></th><th scope=col>Var1</th><th scope=col>Var2</th><th scope=col>Freq</th></tr>\n",
       "\t<tr><th></th><th scope=col>&lt;fct&gt;</th><th scope=col>&lt;fct&gt;</th><th scope=col>&lt;int&gt;</th></tr>\n",
       "</thead>\n",
       "<tbody>\n",
       "\t<tr><th scope=row>1</th><td>casual</td><td>Sunday </td><td>181293</td></tr>\n",
       "\t<tr><th scope=row>2</th><td>member</td><td>Sunday </td><td>267965</td></tr>\n",
       "\t<tr><th scope=row>3</th><td>casual</td><td>Monday </td><td>103296</td></tr>\n",
       "\t<tr><th scope=row>4</th><td>member</td><td>Monday </td><td>472196</td></tr>\n",
       "\t<tr><th scope=row>5</th><td>casual</td><td>Tuesday</td><td> 90510</td></tr>\n",
       "\t<tr><th scope=row>6</th><td>member</td><td>Tuesday</td><td>508445</td></tr>\n",
       "</tbody>\n",
       "</table>\n"
      ],
      "text/latex": [
       "A data.frame: 6 × 3\n",
       "\\begin{tabular}{r|lll}\n",
       "  & Var1 & Var2 & Freq\\\\\n",
       "  & <fct> & <fct> & <int>\\\\\n",
       "\\hline\n",
       "\t1 & casual & Sunday  & 181293\\\\\n",
       "\t2 & member & Sunday  & 267965\\\\\n",
       "\t3 & casual & Monday  & 103296\\\\\n",
       "\t4 & member & Monday  & 472196\\\\\n",
       "\t5 & casual & Tuesday &  90510\\\\\n",
       "\t6 & member & Tuesday & 508445\\\\\n",
       "\\end{tabular}\n"
      ],
      "text/markdown": [
       "\n",
       "A data.frame: 6 × 3\n",
       "\n",
       "| <!--/--> | Var1 &lt;fct&gt; | Var2 &lt;fct&gt; | Freq &lt;int&gt; |\n",
       "|---|---|---|---|\n",
       "| 1 | casual | Sunday  | 181293 |\n",
       "| 2 | member | Sunday  | 267965 |\n",
       "| 3 | casual | Monday  | 103296 |\n",
       "| 4 | member | Monday  | 472196 |\n",
       "| 5 | casual | Tuesday |  90510 |\n",
       "| 6 | member | Tuesday | 508445 |\n",
       "\n"
      ],
      "text/plain": [
       "  Var1   Var2    Freq  \n",
       "1 casual Sunday  181293\n",
       "2 member Sunday  267965\n",
       "3 casual Monday  103296\n",
       "4 member Monday  472196\n",
       "5 casual Tuesday  90510\n",
       "6 member Tuesday 508445"
      ]
     },
     "metadata": {},
     "output_type": "display_data"
    },
    {
     "data": {
      "text/html": [
       "<table class=\"dataframe\">\n",
       "<caption>A data.frame: 6 × 3</caption>\n",
       "<thead>\n",
       "\t<tr><th></th><th scope=col>all_trips_v2$member_casual</th><th scope=col>all_trips_v2$month</th><th scope=col>all_trips_v2$ride_length</th></tr>\n",
       "\t<tr><th></th><th scope=col>&lt;chr&gt;</th><th scope=col>&lt;chr&gt;</th><th scope=col>&lt;dbl&gt;</th></tr>\n",
       "</thead>\n",
       "<tbody>\n",
       "\t<tr><th scope=row>1</th><td>casual</td><td>01</td><td>9698.9692</td></tr>\n",
       "\t<tr><th scope=row>2</th><td>member</td><td>01</td><td> 668.9423</td></tr>\n",
       "\t<tr><th scope=row>3</th><td>casual</td><td>02</td><td>7997.1646</td></tr>\n",
       "\t<tr><th scope=row>4</th><td>member</td><td>02</td><td> 768.3972</td></tr>\n",
       "\t<tr><th scope=row>5</th><td>casual</td><td>03</td><td>4250.2230</td></tr>\n",
       "\t<tr><th scope=row>6</th><td>member</td><td>03</td><td> 860.0644</td></tr>\n",
       "</tbody>\n",
       "</table>\n"
      ],
      "text/latex": [
       "A data.frame: 6 × 3\n",
       "\\begin{tabular}{r|lll}\n",
       "  & all\\_trips\\_v2\\$member\\_casual & all\\_trips\\_v2\\$month & all\\_trips\\_v2\\$ride\\_length\\\\\n",
       "  & <chr> & <chr> & <dbl>\\\\\n",
       "\\hline\n",
       "\t1 & casual & 01 & 9698.9692\\\\\n",
       "\t2 & member & 01 &  668.9423\\\\\n",
       "\t3 & casual & 02 & 7997.1646\\\\\n",
       "\t4 & member & 02 &  768.3972\\\\\n",
       "\t5 & casual & 03 & 4250.2230\\\\\n",
       "\t6 & member & 03 &  860.0644\\\\\n",
       "\\end{tabular}\n"
      ],
      "text/markdown": [
       "\n",
       "A data.frame: 6 × 3\n",
       "\n",
       "| <!--/--> | all_trips_v2$member_casual &lt;chr&gt; | all_trips_v2$month &lt;chr&gt; | all_trips_v2$ride_length &lt;dbl&gt; |\n",
       "|---|---|---|---|\n",
       "| 1 | casual | 01 | 9698.9692 |\n",
       "| 2 | member | 01 |  668.9423 |\n",
       "| 3 | casual | 02 | 7997.1646 |\n",
       "| 4 | member | 02 |  768.3972 |\n",
       "| 5 | casual | 03 | 4250.2230 |\n",
       "| 6 | member | 03 |  860.0644 |\n",
       "\n"
      ],
      "text/plain": [
       "  all_trips_v2$member_casual all_trips_v2$month all_trips_v2$ride_length\n",
       "1 casual                     01                 9698.9692               \n",
       "2 member                     01                  668.9423               \n",
       "3 casual                     02                 7997.1646               \n",
       "4 member                     02                  768.3972               \n",
       "5 casual                     03                 4250.2230               \n",
       "6 member                     03                  860.0644               "
      ]
     },
     "metadata": {},
     "output_type": "display_data"
    },
    {
     "data": {
      "text/html": [
       "<table class=\"dataframe\">\n",
       "<caption>A data.frame: 6 × 3</caption>\n",
       "<thead>\n",
       "\t<tr><th></th><th scope=col>Var1</th><th scope=col>Var2</th><th scope=col>Freq</th></tr>\n",
       "\t<tr><th></th><th scope=col>&lt;fct&gt;</th><th scope=col>&lt;fct&gt;</th><th scope=col>&lt;int&gt;</th></tr>\n",
       "</thead>\n",
       "<tbody>\n",
       "\t<tr><th scope=row>1</th><td>casual</td><td>01</td><td>  7785</td></tr>\n",
       "\t<tr><th scope=row>2</th><td>member</td><td>01</td><td>136099</td></tr>\n",
       "\t<tr><th scope=row>3</th><td>casual</td><td>02</td><td> 12314</td></tr>\n",
       "\t<tr><th scope=row>4</th><td>member</td><td>02</td><td>126714</td></tr>\n",
       "\t<tr><th scope=row>5</th><td>casual</td><td>03</td><td> 24615</td></tr>\n",
       "\t<tr><th scope=row>6</th><td>member</td><td>03</td><td>115593</td></tr>\n",
       "</tbody>\n",
       "</table>\n"
      ],
      "text/latex": [
       "A data.frame: 6 × 3\n",
       "\\begin{tabular}{r|lll}\n",
       "  & Var1 & Var2 & Freq\\\\\n",
       "  & <fct> & <fct> & <int>\\\\\n",
       "\\hline\n",
       "\t1 & casual & 01 &   7785\\\\\n",
       "\t2 & member & 01 & 136099\\\\\n",
       "\t3 & casual & 02 &  12314\\\\\n",
       "\t4 & member & 02 & 126714\\\\\n",
       "\t5 & casual & 03 &  24615\\\\\n",
       "\t6 & member & 03 & 115593\\\\\n",
       "\\end{tabular}\n"
      ],
      "text/markdown": [
       "\n",
       "A data.frame: 6 × 3\n",
       "\n",
       "| <!--/--> | Var1 &lt;fct&gt; | Var2 &lt;fct&gt; | Freq &lt;int&gt; |\n",
       "|---|---|---|---|\n",
       "| 1 | casual | 01 |   7785 |\n",
       "| 2 | member | 01 | 136099 |\n",
       "| 3 | casual | 02 |  12314 |\n",
       "| 4 | member | 02 | 126714 |\n",
       "| 5 | casual | 03 |  24615 |\n",
       "| 6 | member | 03 | 115593 |\n",
       "\n"
      ],
      "text/plain": [
       "  Var1   Var2 Freq  \n",
       "1 casual 01     7785\n",
       "2 member 01   136099\n",
       "3 casual 02    12314\n",
       "4 member 02   126714\n",
       "5 casual 03    24615\n",
       "6 member 03   115593"
      ]
     },
     "metadata": {},
     "output_type": "display_data"
    }
   ],
   "source": [
    "head(mean_duration_week)\n",
    "head(count_day_week)\n",
    "head(mean_duration_month)\n",
    "head(count_month)\n"
   ]
  },
  {
   "cell_type": "markdown",
   "id": "514f6b93",
   "metadata": {
    "papermill": {
     "duration": 0.08435,
     "end_time": "2022-02-16T04:55:18.274948",
     "exception": false,
     "start_time": "2022-02-16T04:55:18.190598",
     "status": "completed"
    },
    "tags": []
   },
   "source": [
    "### Cleaning new tables\n",
    "#### Renaming cells"
   ]
  },
  {
   "cell_type": "code",
   "execution_count": 10,
   "id": "9c6f883e",
   "metadata": {
    "execution": {
     "iopub.execute_input": "2022-02-16T04:55:18.451093Z",
     "iopub.status.busy": "2022-02-16T04:55:18.450307Z",
     "iopub.status.idle": "2022-02-16T04:55:18.489922Z",
     "shell.execute_reply": "2022-02-16T04:55:18.488386Z"
    },
    "jupyter": {
     "source_hidden": true
    },
    "papermill": {
     "duration": 0.129,
     "end_time": "2022-02-16T04:55:18.490071",
     "exception": false,
     "start_time": "2022-02-16T04:55:18.361071",
     "status": "completed"
    },
    "tags": [],
    "vscode": {
     "languageId": "r"
    }
   },
   "outputs": [],
   "source": [
    "mean_duration_week <- rename(mean_duration_week,\n",
    "                        day_of_week = `all_trips_v2$day_of_week`,\n",
    "                        ride_length = `all_trips_v2$ride_length`,\n",
    "                        member_casual = `all_trips_v2$member_casual`)\n",
    "\n",
    "count_day_week <- rename(count_day_week, \n",
    "                         member_casual = Var1, day_of_week = Var2,\n",
    "                         count = Freq)\n",
    "\n",
    "mean_duration_month <- rename(mean_duration_month,\n",
    "                        month = `all_trips_v2$month`,\n",
    "                        ride_length = `all_trips_v2$ride_length`,\n",
    "                        member_casual = `all_trips_v2$member_casual`)\n",
    "\n",
    "count_month <- rename(count_month, \n",
    "                         member_casual = Var1, month = Var2,\n",
    "                         count = Freq)"
   ]
  },
  {
   "cell_type": "markdown",
   "id": "47c2f567",
   "metadata": {
    "papermill": {
     "duration": 0.084602,
     "end_time": "2022-02-16T04:55:18.659282",
     "exception": false,
     "start_time": "2022-02-16T04:55:18.574680",
     "status": "completed"
    },
    "tags": []
   },
   "source": [
    "## Results\n",
    "### 5. Share\n",
    "**Weekly arrenge charts**"
   ]
  },
  {
   "cell_type": "code",
   "execution_count": 11,
   "id": "3530b454",
   "metadata": {
    "execution": {
     "iopub.execute_input": "2022-02-16T04:55:18.835500Z",
     "iopub.status.busy": "2022-02-16T04:55:18.833653Z",
     "iopub.status.idle": "2022-02-16T04:55:19.359068Z",
     "shell.execute_reply": "2022-02-16T04:55:19.358328Z"
    },
    "jupyter": {
     "source_hidden": true
    },
    "papermill": {
     "duration": 0.61499,
     "end_time": "2022-02-16T04:55:19.359207",
     "exception": false,
     "start_time": "2022-02-16T04:55:18.744217",
     "status": "completed"
    },
    "tags": [],
    "vscode": {
     "languageId": "r"
    }
   },
   "outputs": [
    {
     "data": {
      "image/png": "[encoded data removed]"
     },
     "metadata": {
      "image/png": {
       "height": 420,
       "width": 420
      }
     },
     "output_type": "display_data"
    }
   ],
   "source": [
    "#Creating a visualization for average duration, for every day of the week\n",
    "mean_duration_week %>%\n",
    "  ggplot(aes(x = day_of_week, y = ride_length\n",
    "             , fill = member_casual)) +\n",
    "  geom_col(position = \"identity\")"
   ]
  },
  {
   "cell_type": "code",
   "execution_count": 12,
   "id": "dafbb1c9",
   "metadata": {
    "execution": {
     "iopub.execute_input": "2022-02-16T04:55:19.539343Z",
     "iopub.status.busy": "2022-02-16T04:55:19.537799Z",
     "iopub.status.idle": "2022-02-16T04:55:19.841574Z",
     "shell.execute_reply": "2022-02-16T04:55:19.840479Z"
    },
    "jupyter": {
     "source_hidden": true
    },
    "papermill": {
     "duration": 0.39503,
     "end_time": "2022-02-16T04:55:19.841736",
     "exception": false,
     "start_time": "2022-02-16T04:55:19.446706",
     "status": "completed"
    },
    "tags": [],
    "vscode": {
     "languageId": "r"
    }
   },
   "outputs": [
    {
     "data": {
      "image/png": "[encoded data removed]"
     },
     "metadata": {
      "image/png": {
       "height": 420,
       "width": 420
      }
     },
     "output_type": "display_data"
    }
   ],
   "source": [
    "#Visualizing the number of rides by rider type, for every day of the week\n",
    "count_day_week %>%\n",
    "  ggplot(aes(x = day_of_week, y = count\n",
    "             , fill = member_casual)) +\n",
    "  geom_col(position = \"dodge\")"
   ]
  },
  {
   "cell_type": "code",
   "execution_count": 13,
   "id": "6963c2c4",
   "metadata": {
    "execution": {
     "iopub.execute_input": "2022-02-16T04:55:20.028724Z",
     "iopub.status.busy": "2022-02-16T04:55:20.027753Z",
     "iopub.status.idle": "2022-02-16T04:55:20.056426Z",
     "shell.execute_reply": "2022-02-16T04:55:20.054730Z"
    },
    "jupyter": {
     "source_hidden": true
    },
    "papermill": {
     "duration": 0.124141,
     "end_time": "2022-02-16T04:55:20.056623",
     "exception": false,
     "start_time": "2022-02-16T04:55:19.932482",
     "status": "completed"
    },
    "tags": [],
    "vscode": {
     "languageId": "r"
    }
   },
   "outputs": [
    {
     "data": {
      "text/html": [
       "TRUE"
      ],
      "text/latex": [
       "TRUE"
      ],
      "text/markdown": [
       "TRUE"
      ],
      "text/plain": [
       "[1] TRUE"
      ]
     },
     "metadata": {},
     "output_type": "display_data"
    },
    {
     "data": {
      "text/html": [
       "TRUE"
      ],
      "text/latex": [
       "TRUE"
      ],
      "text/markdown": [
       "TRUE"
      ],
      "text/plain": [
       "[1] TRUE"
      ]
     },
     "metadata": {},
     "output_type": "display_data"
    }
   ],
   "source": [
    "## month to numeric\n",
    "mean_duration_month$month <- as.numeric(as.character(mean_duration_month$month))\n",
    "count_month$month <- as.numeric(as.character(count_month$month))\n",
    "is.numeric(mean_duration_month$month)\n",
    "is.numeric(count_month$month)"
   ]
  },
  {
   "cell_type": "markdown",
   "id": "e2c56950",
   "metadata": {
    "papermill": {
     "duration": 0.097719,
     "end_time": "2022-02-16T04:55:20.252112",
     "exception": false,
     "start_time": "2022-02-16T04:55:20.154393",
     "status": "completed"
    },
    "tags": []
   },
   "source": [
    "**Monthly Arrange Charts**"
   ]
  },
  {
   "cell_type": "code",
   "execution_count": 14,
   "id": "a59b41ff",
   "metadata": {
    "execution": {
     "iopub.execute_input": "2022-02-16T04:55:20.463533Z",
     "iopub.status.busy": "2022-02-16T04:55:20.462505Z",
     "iopub.status.idle": "2022-02-16T04:55:20.754143Z",
     "shell.execute_reply": "2022-02-16T04:55:20.753534Z"
    },
    "jupyter": {
     "source_hidden": true
    },
    "papermill": {
     "duration": 0.399136,
     "end_time": "2022-02-16T04:55:20.754268",
     "exception": false,
     "start_time": "2022-02-16T04:55:20.355132",
     "status": "completed"
    },
    "tags": [],
    "vscode": {
     "languageId": "r"
    }
   },
   "outputs": [
    {
     "data": {
      "image/png": "[encoded data removed]"
     },
     "metadata": {
      "image/png": {
       "height": 420,
       "width": 420
      }
     },
     "output_type": "display_data"
    }
   ],
   "source": [
    "#Creating a visualization for average duration for every month of the year 2019-2020\n",
    "mean_duration_month %>%\n",
    "  ggplot(aes(x = month, y = ride_length\n",
    "             , color = member_casual)) +\n",
    "  geom_point() +\n",
    "  geom_line()"
   ]
  },
  {
   "cell_type": "code",
   "execution_count": 15,
   "id": "233d3a13",
   "metadata": {
    "execution": {
     "iopub.execute_input": "2022-02-16T04:55:20.958037Z",
     "iopub.status.busy": "2022-02-16T04:55:20.956811Z",
     "iopub.status.idle": "2022-02-16T04:55:21.283664Z",
     "shell.execute_reply": "2022-02-16T04:55:21.283009Z"
    },
    "jupyter": {
     "source_hidden": true
    },
    "papermill": {
     "duration": 0.431084,
     "end_time": "2022-02-16T04:55:21.283807",
     "exception": false,
     "start_time": "2022-02-16T04:55:20.852723",
     "status": "completed"
    },
    "tags": [],
    "vscode": {
     "languageId": "r"
    }
   },
   "outputs": [
    {
     "data": {
      "image/png": "[encoded data removed]"
     },
     "metadata": {
      "image/png": {
       "height": 420,
       "width": 420
      }
     },
     "output_type": "display_data"
    }
   ],
   "source": [
    "#Visualizing the number of rides by rider type for every month of the year 2019-2020\n",
    "\n",
    "count_month %>%\n",
    "  ggplot(aes(x = month, y = count\n",
    "             , color = member_casual)) +\n",
    "  geom_point() +\n",
    "  geom_line()"
   ]
  },
  {
   "cell_type": "markdown",
   "id": "0ee2fc42",
   "metadata": {
    "papermill": {
     "duration": 0.10113,
     "end_time": "2022-02-16T04:55:21.487300",
     "exception": false,
     "start_time": "2022-02-16T04:55:21.386170",
     "status": "completed"
    },
    "tags": []
   },
   "source": [
    "## Conclusion\n",
    "\n",
    "After analysing the data-sets, these are the patterns and conclusions I found.\n",
    "\n",
    "1. Members take more rides on working days.\n",
    "2. Casual users take more rides on weekends.\n",
    "3. Casual users take longer rides on average compared to members.\n",
    "4. Winter is the less demanded season for both users.\n",
    "5. longer rides from casual users come between February and January."
   ]
  }
 ],
 "metadata": {
  "kernelspec": {
   "display_name": "R",
   "language": "R",
   "name": "ir"
  },
  "language_info": {
   "codemirror_mode": "r",
   "file_extension": ".r",
   "mimetype": "text/x-r-source",
   "name": "R",
   "pygments_lexer": "r",
   "version": "4.0.5"
  },
  "papermill": {
   "default_parameters": {},
   "duration": 53.275713,
   "end_time": "2022-02-16T04:55:21.800109",
   "environment_variables": {},
   "exception": null,
   "input_path": "__notebook__.ipynb",
   "output_path": "__notebook__.ipynb",
   "parameters": {},
   "start_time": "2022-02-16T04:54:28.524396",
   "version": "2.3.3"
  }
 },
 "nbformat": 4,
 "nbformat_minor": 5
}
